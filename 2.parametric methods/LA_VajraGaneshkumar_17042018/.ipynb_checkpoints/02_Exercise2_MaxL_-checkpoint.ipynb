{
 "cells": [
  {
   "cell_type": "markdown",
   "metadata": {},
   "source": [
    "## Task1"
   ]
  },
  {
   "cell_type": "markdown",
   "metadata": {},
   "source": [
    "Implement in Python ( you can use SciPy library) the Maximum Likelihood Estimator to estimate the parameters for example mean and variance of some data.\n",
    "Your steps are:\n",
    "* Create a data set: \n",
    "    - Set x-values for example: *x = np.linspace(0, 100, num=100)*, \n",
    "    - Set observed y-values using a known slope (1.4), intercept (4), and sd (3), for example       *y = 4 + 1.4x + np.random.normal(0, 3, 100)*\n",
    "* Create a likelihood function which arguments is a list of initial parameters\n",
    "* Test this function on various data sets \n",
    "(Hint: you can use minimize from scipy.optimize and scipy.stats to compute the negative log-likelihood)"
   ]
  },
  {
   "cell_type": "code",
   "execution_count": 18,
   "metadata": {},
   "outputs": [],
   "source": [
    "from scipy import stats\n",
    "import numpy as np\n",
    "from scipy.optimize import minimize"
   ]
  },
  {
   "cell_type": "code",
   "execution_count": 20,
   "metadata": {},
   "outputs": [
    {
     "name": "stdout",
     "output_type": "stream",
     "text": [
      "slope is 1.3907866048754274 and y intercept is 4.441589889446215\n",
      "slope is 5.030987101528639 and y intercept is 8.358925613165166\n",
      "slope is 14.998814943691134 and y intercept is 101.05942980400953\n"
     ]
    }
   ],
   "source": [
    "def loglikehoodfunction(params, args):\n",
    "    m = params[1]\n",
    "    c = params[0]\n",
    "    \n",
    "    y_predicted = m*args[0]+c\n",
    "    LL = -np.sum( stats.norm.logpdf(args[1], loc=y_predicted) )\n",
    "    return LL\n",
    "\n",
    "#check by setting slope to 1.4 and intercept to 4\n",
    "init_params = [1,1]\n",
    "xdata = np.linspace(0,100,100)\n",
    "ydata = xdata*1.4+4+np.random.normal(0,3,100)\n",
    "args = [xdata, ydata]\n",
    "results = minimize(loglikehoodfunction, init_params, args = args, method = 'nelder-mead')\n",
    "print \"slope is \"+str(results.x[1])+\" and y intercept is \"+str(results.x[0])\n",
    "\n",
    "#Verfying for different datasets\n",
    "#check by setting slope to 5 and intercept to 10\n",
    "ydata = xdata*5+10+np.random.normal(0,3,100)\n",
    "args = [xdata, ydata]\n",
    "results = minimize(loglikehoodfunction, init_params, args = args, method = 'nelder-mead')\n",
    "print \"slope is \"+str(results.x[1])+\" and y intercept is \"+str(results.x[0])\n",
    "\n",
    "#check by setting slope to 15 and intercept to 101\n",
    "ydata = xdata*15+101+np.random.normal(0,3,100)\n",
    "args = [xdata, ydata]\n",
    "results = minimize(loglikehoodfunction, init_params, args = args, method = 'nelder-mead')\n",
    "print \"slope is \"+str(results.x[1])+\" and y intercept is \"+str(results.x[0])"
   ]
  },
  {
   "cell_type": "markdown",
   "metadata": {},
   "source": [
    "### Reference:\n",
    "https://stackoverflow.com/questions/7718034/maximum-likelihood-estimate-pseudocode"
   ]
  }
 ],
 "metadata": {
  "kernelspec": {
   "display_name": "Python 2",
   "language": "python",
   "name": "python2"
  },
  "language_info": {
   "codemirror_mode": {
    "name": "ipython",
    "version": 2
   },
   "file_extension": ".py",
   "mimetype": "text/x-python",
   "name": "python",
   "nbconvert_exporter": "python",
   "pygments_lexer": "ipython2",
   "version": "2.7.14"
  }
 },
 "nbformat": 4,
 "nbformat_minor": 1
}
