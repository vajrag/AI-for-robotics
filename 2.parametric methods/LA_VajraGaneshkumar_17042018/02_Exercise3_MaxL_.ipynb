{
 "cells": [
  {
   "cell_type": "markdown",
   "metadata": {},
   "source": [
    "GIVEN: Samples $0,1,0,0,1,0$ from a binomial distribution which has the form:P(x=0)=(1-$\\mu$), P(x=1)=$\\mu$"
   ]
  },
  {
   "cell_type": "markdown",
   "metadata": {},
   "source": [
    "##### REQUESTED: What is the maximum likelihood estimate of $\\mu$ .Hint: you can use SymPy to compute the derivities symboliclly"
   ]
  },
  {
   "cell_type": "markdown",
   "metadata": {},
   "source": []
  },
  {
   "cell_type": "code",
   "execution_count": 2,
   "metadata": {},
   "outputs": [],
   "source": [
    "import sympy as sp\n",
    "import numpy as np\n",
    "import matplotlib.pyplot as plt\n",
    "sp.init_printing(use_latex=True)"
   ]
  },
  {
   "cell_type": "markdown",
   "metadata": {},
   "source": [
    "###### Maximum likelihood estimation:\n",
    "$$L(p\\;|\\;y,N)= \\binom {N}{y}. p^y.(1-p)^{N-y}$$\n",
    "<br>\n",
    "where,<br>\n",
    "\n",
    "p = Probability of success<br>\n",
    "N = Number of trials<br>\n",
    "y = Number of successes in N trials<br> \n",
    "<br>\n",
    "\n",
    "Since $\\binom {N}{y}$ is a constant, this has been ignored.<br>\n",
    "\n",
    "Taking log on both the sides,\n",
    "<br>\n",
    "$$\\ln L(p\\;|\\;y,N) = y. \\ln(p) + (N-y) \\ln(1-p)$$\n",
    "<br>\n",
    "$$ \\frac{\\partial[\\ln L(p\\;|\\;y,N)]}{\\partial p} = \\frac{y}{p} - \\frac{N-y}{1-p} = 0$$\n",
    "<br>\n",
    "$$\\frac{y}{p} = \\frac{(N-y)}{(1-p)}$$\n",
    "<br>\n",
    "$$y(1-p) = p(N-y)$$\n",
    "<br>\n",
    "$$ y -yp = pN -yp$$\n",
    "<br>\n",
    "$$pN = y-yp +yp$$\n",
    "<br>\n",
    "$$ p = \\frac{y}{N}$$"
   ]
  },
  {
   "cell_type": "code",
   "execution_count": 3,
   "metadata": {},
   "outputs": [],
   "source": [
    "samples = [0,1,0,0,1,0]\n",
    "success = sum(samples)\n",
    "failures = len(samples)-success"
   ]
  },
  {
   "cell_type": "code",
   "execution_count": 4,
   "metadata": {},
   "outputs": [
    {
     "name": "stdout",
     "output_type": "stream",
     "text": [
      "-4*mu**2*(-mu + 1)**3 + 2*mu*(-mu + 1)**4\n"
     ]
    },
    {
     "data": {
      "image/png": "[encoded data removed]",
      "text/latex": [
       "$$\\left [ 0, \\quad \\frac{1}{3}, \\quad 1\\right ]$$"
      ],
      "text/plain": [
       "[0, 1/3, 1]"
      ]
     },
     "execution_count": 4,
     "metadata": {},
     "output_type": "execute_result"
    }
   ],
   "source": [
    "mu = sp.Symbol('mu')\n",
    "eq = mu**success * (1-mu) **failures\n",
    "eq_prime = sp.diff(eq,mu)\n",
    "print eq_prime\n",
    "sp.solve(eq_prime)"
   ]
  },
  {
   "cell_type": "markdown",
   "metadata": {},
   "source": [
    "#### Reference :\n",
    "http://www.montana.edu/rotella/documents/502/binom_like.pdf"
   ]
  }
 ],
 "metadata": {
  "kernelspec": {
   "display_name": "Python 2",
   "language": "python",
   "name": "python2"
  },
  "language_info": {
   "codemirror_mode": {
    "name": "ipython",
    "version": 2
   },
   "file_extension": ".py",
   "mimetype": "text/x-python",
   "name": "python",
   "nbconvert_exporter": "python",
   "pygments_lexer": "ipython2",
   "version": "2.7.14"
  }
 },
 "nbformat": 4,
 "nbformat_minor": 1
}
