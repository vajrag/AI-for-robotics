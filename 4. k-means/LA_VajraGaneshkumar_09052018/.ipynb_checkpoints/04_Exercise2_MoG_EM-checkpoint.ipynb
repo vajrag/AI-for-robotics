{
 "cells": [
  {
   "cell_type": "markdown",
   "metadata": {},
   "source": [
    "#Task:\n",
    "Mixture of Gaussian, EM-Algorithm\n",
    "<br>\n",
    "Apply EM algorithm to fit a mixture of gaussian distribution to the following datasets: "
   ]
  },
  {
   "cell_type": "code",
   "execution_count": 1,
   "metadata": {},
   "outputs": [],
   "source": [
    "import numpy as np\n",
    "%matplotlib inline"
   ]
  },
  {
   "cell_type": "markdown",
   "metadata": {},
   "source": [
    "##Dataset 1"
   ]
  },
  {
   "cell_type": "code",
   "execution_count": 7,
   "metadata": {},
   "outputs": [],
   "source": [
    "np.random.multivariate_normal([1,2], [[1,2],[3,4]],size=100)"
   ]
  },
  {
   "cell_type": "code",
   "execution_count": 6,
   "metadata": {},
   "outputs": [
    {
     "name": "stdout",
     "output_type": "stream",
     "text": [
      "[[2.2176852  4.28447546]\n",
      " [2.39646324 4.72073472]\n",
      " [2.91228037 4.44312778]\n",
      " ...\n",
      " [3.64518662 5.82704683]\n",
      " [3.21082897 3.52293909]\n",
      " [3.63645962 6.28419949]]\n"
     ]
    }
   ],
   "source": [
    "# Make some random data in 2D.\n",
    "np.random.seed(150)\n",
    "means = np.array([[2.1, 4.5],\n",
    "                  [2.0, 2.7],\n",
    "                  [3.5, 5.6]])\n",
    "covariances = [np.array([[0.20, 0.10], [0.10, 0.60]]),\n",
    "               np.array([[0.35, 0.22], [0.22, 0.15]]),\n",
    "               np.array([[0.06, 0.05], [0.05, 1.30]])]\n",
    "amplitudes = [5, 1, 2]\n",
    "factor = 100\n",
    "data = np.zeros((1, 2))\n",
    "for i in range(len(means)):\n",
    "    data = np.concatenate([data,\n",
    "         np.random.multivariate_normal(means[i], covariances[i],\n",
    "                                           size=factor * amplitudes[i])])\n",
    "data = data[1:, :]"
   ]
  },
  {
   "cell_type": "code",
   "execution_count": null,
   "metadata": {},
   "outputs": [],
   "source": [
    "np.random.multivariate_normal"
   ]
  },
  {
   "cell_type": "markdown",
   "metadata": {},
   "source": [
    "##Dataset 2"
   ]
  },
  {
   "cell_type": "code",
   "execution_count": 47,
   "metadata": {},
   "outputs": [],
   "source": [
    "    # Make some random data in 2D.\n",
    "    np.random.seed(150)\n",
    "    means = np.array([[1.1, 6.5],\n",
    "                      [2.5, 4.7],\n",
    "                      #[3.0, 2.6],\n",
    "                      [3.0, 3.3]])\n",
    "    covariances = [np.array([[0.55, -0.10], [-0.10, 0.25]]),\n",
    "                   np.array([[0.35, 0.22], [0.22, 0.20]]),\n",
    "                   #np.array([[0.06, 0.05], [0.05, 1.30]]),\n",
    "                   np.array([[0.06, 0.05], [0.05, 1.30]])]\n",
    "    amplitudes = [4, 1, 3]\n",
    "    factor = 100\n",
    "\n",
    "    data = np.zeros((1, 2))\n",
    "    for i in range(len(means)):\n",
    "        data = np.concatenate([data,\n",
    "            np.random.multivariate_normal(means[i], covariances[i],\n",
    "                                                size=factor * amplitudes[i])])\n",
    "    data = data[1:, :]"
   ]
  },
  {
   "cell_type": "markdown",
   "metadata": {},
   "source": [
    "Visualise the results (plot the samples color coded by fit mixture component, plot ellipsoids for Gaussians)"
   ]
  },
  {
   "cell_type": "markdown",
   "metadata": {
    "collapsed": true
   },
   "source": [
    "# Results\n",
    "The output for the Dataset1 can look like: "
   ]
  },
  {
   "cell_type": "markdown",
   "metadata": {},
   "source": [
    "<img src=\"files/04_Exercise1_MoG_EM.png\">"
   ]
  },
  {
   "cell_type": "code",
   "execution_count": null,
   "metadata": {
    "collapsed": true
   },
   "outputs": [],
   "source": []
  }
 ],
 "metadata": {
  "kernelspec": {
   "display_name": "Python 2",
   "language": "python",
   "name": "python2"
  },
  "language_info": {
   "codemirror_mode": {
    "name": "ipython",
    "version": 2
   },
   "file_extension": ".py",
   "mimetype": "text/x-python",
   "name": "python",
   "nbconvert_exporter": "python",
   "pygments_lexer": "ipython2",
   "version": "2.7.14"
  }
 },
 "nbformat": 4,
 "nbformat_minor": 1
}
